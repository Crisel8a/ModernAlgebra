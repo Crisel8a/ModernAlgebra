{
 "cells": [
  {
   "cell_type": "markdown",
   "id": "b80eb0ef-5ae8-4fbf-b80f-322a32b6db8e",
   "metadata": {},
   "source": [
    "# ÁLGEBRA MODERNA 1."
   ]
  },
  {
   "cell_type": "markdown",
   "id": "5d3fa852-90db-4c0e-b739-24f32fa7f74e",
   "metadata": {},
   "source": [
    "## ¿b divisible entre a?"
   ]
  },
  {
   "cell_type": "code",
   "execution_count": 54,
   "id": "9257452d-ac2a-4ecc-a082-32c200a8c5ae",
   "metadata": {},
   "outputs": [],
   "source": [
    "def divisible(b,a):\n",
    "    while b > 0:\n",
    "        a = abs(a)\n",
    "        b -= a\n",
    "    \n",
    "    if b == 0:\n",
    "        return \"¡Es divisible!\"\n",
    "    else:\n",
    "        return \"No es divisible\""
   ]
  },
  {
   "cell_type": "markdown",
   "id": "3ef68946-0269-4e50-bd1c-a915ca9493de",
   "metadata": {},
   "source": [
    "## Divisores de un número."
   ]
  },
  {
   "cell_type": "code",
   "execution_count": 1,
   "id": "d5decccc-83a0-460f-90b4-acd215fe502e",
   "metadata": {},
   "outputs": [],
   "source": [
    "def divisores(b):\n",
    "    divisores = [1]\n",
    "    while b > 0:\n",
    "        for i in range(2,b):\n",
    "            r = b%i\n",
    "            if r == 0:\n",
    "                divisores.append(i)\n",
    "                \n",
    "        return divisores+[b]"
   ]
  },
  {
   "cell_type": "markdown",
   "id": "3ee22712-4562-4a04-83d1-208b7fd917a5",
   "metadata": {},
   "source": [
    "## Números de la forma (1+pk) con p primo y k entero positivo."
   ]
  },
  {
   "cell_type": "code",
   "execution_count": 2,
   "id": "c76cc843-4ec2-4c06-b739-e9785d062f3a",
   "metadata": {},
   "outputs": [],
   "source": [
    "def pk(p, orden_deG):\n",
    "    lp = []\n",
    "    for k in range(0, orden_deG):\n",
    "        k = (1 + k*p)\n",
    "        lp.append(k)\n",
    "    return lp"
   ]
  },
  {
   "cell_type": "markdown",
   "id": "0d104f49-d4c5-45fb-bdff-1cec81de7a86",
   "metadata": {},
   "source": [
    "## Posibles números lp de p-subgrupos de Sylow."
   ]
  },
  {
   "cell_type": "code",
   "execution_count": 3,
   "id": "10981f26-5eef-4cd5-a9a4-d71dd6c842d0",
   "metadata": {},
   "outputs": [],
   "source": [
    "def lp(p,ordenG):\n",
    "        \n",
    "    a = divisores(ordenG)\n",
    "    b = pSylow(p,ordenG)\n",
    "    A = set(a)\n",
    "    B = set(b)\n",
    "    \n",
    "    return A.intersection(B)"
   ]
  },
  {
   "cell_type": "code",
   "execution_count": 16,
   "id": "2822e638-4e2a-468c-be75-15dc5294981d",
   "metadata": {},
   "outputs": [
    {
     "data": {
      "text/plain": [
       "{1, 32}"
      ]
     },
     "execution_count": 16,
     "metadata": {},
     "output_type": "execute_result"
    }
   ],
   "source": [
    "lp(31,992)"
   ]
  },
  {
   "cell_type": "code",
   "execution_count": 13,
   "id": "1bafca57-ab8c-46f1-870f-1ad9c2e943bc",
   "metadata": {},
   "outputs": [
    {
     "data": {
      "text/plain": [
       "{1, 4, 10}"
      ]
     },
     "execution_count": 13,
     "metadata": {},
     "output_type": "execute_result"
    }
   ],
   "source": [
    "lp(3,60)"
   ]
  },
  {
   "cell_type": "code",
   "execution_count": 14,
   "id": "eb0bae73-2b0e-4479-8c9a-557c93b54233",
   "metadata": {},
   "outputs": [
    {
     "data": {
      "text/plain": [
       "{1, 6}"
      ]
     },
     "execution_count": 14,
     "metadata": {},
     "output_type": "execute_result"
    }
   ],
   "source": [
    "lp(5,60)"
   ]
  },
  {
   "cell_type": "code",
   "execution_count": 23,
   "id": "6d3bd44f-b3fa-42db-8b7a-8f1911d36fc1",
   "metadata": {},
   "outputs": [
    {
     "data": {
      "text/plain": [
       "{1}"
      ]
     },
     "execution_count": 23,
     "metadata": {},
     "output_type": "execute_result"
    }
   ],
   "source": [
    "lp(9,45)"
   ]
  },
  {
   "cell_type": "code",
   "execution_count": 28,
   "id": "ae1d8b57-ed3c-49ff-ba2a-6bdc7456f4a0",
   "metadata": {},
   "outputs": [
    {
     "data": {
      "text/plain": [
       "{1}"
      ]
     },
     "execution_count": 28,
     "metadata": {},
     "output_type": "execute_result"
    }
   ],
   "source": [
    "lp(7,42)"
   ]
  },
  {
   "cell_type": "code",
   "execution_count": 33,
   "id": "d1a27250-3ab9-4104-96e6-f8842b5e0207",
   "metadata": {},
   "outputs": [
    {
     "data": {
      "text/plain": [
       "{1}"
      ]
     },
     "execution_count": 33,
     "metadata": {},
     "output_type": "execute_result"
    }
   ],
   "source": [
    "lp(11,231)"
   ]
  },
  {
   "cell_type": "code",
   "execution_count": 40,
   "id": "ecb29b00-2619-46f7-8013-78a32855c4c6",
   "metadata": {},
   "outputs": [
    {
     "data": {
      "text/plain": [
       "{1}"
      ]
     },
     "execution_count": 40,
     "metadata": {},
     "output_type": "execute_result"
    }
   ],
   "source": [
    "lp(17,255)"
   ]
  },
  {
   "cell_type": "markdown",
   "id": "cc72d618-ed6b-4f46-a87c-617158c60318",
   "metadata": {},
   "source": [
    "## Número lp exacto de p-subgrupos de Sylow"
   ]
  },
  {
   "cell_type": "code",
   "execution_count": 4,
   "id": "f0bb8365-234b-4aae-a91d-05be541375eb",
   "metadata": {},
   "outputs": [],
   "source": [
    "def pSylow(p,ordenG):\n",
    "        \n",
    "    a = divisores(ordenG)\n",
    "    b = pk(p,ordenG)\n",
    "    A = set(a)\n",
    "    B = set(b)\n",
    "    \n",
    "    cj =A.intersection(B)\n",
    "    lista = list(cj)\n",
    "    \n",
    "    print(lista)\n",
    "    \n",
    "    for subg in lista:\n",
    "        if subg != 1:\n",
    "            print(f\"Hay {subg} {p}-subgrupos de Sylow\")\n",
    "            orden = subg-1\n",
    "            elementos = p-1\n",
    "            total = elementos*subg\n",
    "            lugar = ordenG - total\n",
    "            print(f\"Cada uno con {elementos} elementos disntintos de la identidad de orden {orden}.\")\n",
    "            print(f\"Hay entonces {total} elementos de orden {orden} en total.\")\n",
    "            if p < lugar:\n",
    "                print(f\"Pero cada {p}-Sylow tiene orden {p}, entonces estos {elementos} elementos NO estan aquí.\")\n",
    "                print(f\"Por tanto solo hay un {p}-subgrupo de Sylow y es normal.\")\n",
    "                print(\"El grupo NO es simple.\")\n",
    "            elif p > lugar:\n",
    "                print(f\"Cada {p}-subgrupo de Sylow tiene cardinalidad {p}.\")\n",
    "                print(f\"Entonces el total {total} de elementos SÍ se encuentran aquí.\")\n",
    "                print(\"El grupo SI ES SIMPLE\")\n",
    "        elif len(lista) == 1:\n",
    "            print(\"Es normal\")\n",
    "            "
   ]
  },
  {
   "cell_type": "code",
   "execution_count": 7,
   "id": "328fbb16-703d-48e5-a00a-fde6c86f0ff8",
   "metadata": {},
   "outputs": [
    {
     "name": "stdout",
     "output_type": "stream",
     "text": [
      "[73, 1]\n",
      "Hay 73 2-subgrupos de Sylow\n",
      "Cada uno con 1 elementos disntintos de la identidad de orden 72.\n",
      "Hay entonces 73 elementos de orden 72 en total.\n",
      "Cada 2-subgrupo de Sylow tiene cardinalidad 2.\n",
      "Entonces el total 73 de elementos SÍ se encuentran aquí.\n",
      "El grupo SI ES SIMPLE\n"
     ]
    }
   ],
   "source": [
    "pSylow(2,73)"
   ]
  },
  {
   "cell_type": "markdown",
   "id": "b7c4732b-e932-44c2-b00e-689e30367172",
   "metadata": {},
   "source": [
    "## Función Factorial"
   ]
  },
  {
   "cell_type": "code",
   "execution_count": null,
   "id": "a74411f5-816c-4cf3-b019-6e49055ee97b",
   "metadata": {},
   "outputs": [],
   "source": [
    "def factorial(n):\n",
    "    #caso base\n",
    "    if n == 0:\n",
    "        return 1\n",
    "    else:\n",
    "        return factorial(n-1)*n "
   ]
  },
  {
   "cell_type": "markdown",
   "id": "66767dce-80f9-4b9e-b974-7611d01e813f",
   "metadata": {},
   "source": [
    "## Cardinalidad de $S_n$ y $A_n$"
   ]
  },
  {
   "cell_type": "code",
   "execution_count": null,
   "id": "6391c011-dfcc-4401-bb63-31771008f475",
   "metadata": {},
   "outputs": [],
   "source": [
    "n = int(input(\"Ingrese n: \"))\n",
    "cardS_n = factorial(n)\n",
    "cardA_n = cardS_n/2\n",
    "print(\"La cardilanidad de S_n es: \", cardS_n)\n",
    "print(\"La cardinalidad de A_n es: \" ,cardA_n)"
   ]
  },
  {
   "cell_type": "markdown",
   "id": "155ad38a-31f8-4b9f-9335-63eb16e6c220",
   "metadata": {},
   "source": [
    "## Primos relativos - función $\\phi$ de Euler."
   ]
  },
  {
   "cell_type": "code",
   "execution_count": 8,
   "id": "4b9c5641-5b24-4158-b6a8-889608102db3",
   "metadata": {},
   "outputs": [],
   "source": [
    "import numpy as np  \n",
    "\n",
    "def fEuler(n):\n",
    "    rlist=[]\n",
    "    \n",
    "    for i in range(1,n):\n",
    "        if np.gcd(n,i)==1:\n",
    "            rlist.append(i)\n",
    "\n",
    "    print(\"La cardinalidad de este conjunto es: \", len(rlist))\n",
    "\n",
    "    print(len(rlist)*100/n, \"Porcentaje de primos relativos de \", n, \"que son menores que \", n)\n",
    "    \n",
    "    return rlist"
   ]
  },
  {
   "cell_type": "code",
   "execution_count": 12,
   "id": "7b3375d4-be36-43a4-8d3b-145da237a8a0",
   "metadata": {},
   "outputs": [
    {
     "name": "stdout",
     "output_type": "stream",
     "text": [
      "La cardinalidad de este conjunto es:  6\n",
      "33.333333333333336 Porcentaje de primos relativos de  18 que son menores que  18\n"
     ]
    },
    {
     "data": {
      "text/plain": [
       "[1, 5, 7, 11, 13, 17]"
      ]
     },
     "execution_count": 12,
     "metadata": {},
     "output_type": "execute_result"
    }
   ],
   "source": [
    "fEuler(18)"
   ]
  },
  {
   "cell_type": "markdown",
   "id": "8612b09a-b478-4215-8139-c07d238e1b24",
   "metadata": {},
   "source": [
    "## Mínimo común multiplo"
   ]
  },
  {
   "cell_type": "code",
   "execution_count": 1,
   "id": "a65596e7-4ac6-4d07-b1cb-4e60f357a75b",
   "metadata": {},
   "outputs": [],
   "source": [
    "import numpy as np\n",
    "def mcm(a,b):\n",
    "    return (a*b)/np.gcd(a,b)"
   ]
  },
  {
   "cell_type": "code",
   "execution_count": 8,
   "id": "48413f99-2d46-4004-b7c5-01b8f98568b4",
   "metadata": {},
   "outputs": [
    {
     "data": {
      "text/plain": [
       "657.0"
      ]
     },
     "execution_count": 8,
     "metadata": {},
     "output_type": "execute_result"
    }
   ],
   "source": [
    "mcm(9,73)"
   ]
  }
 ],
 "metadata": {
  "kernelspec": {
   "display_name": "Python 3 (ipykernel)",
   "language": "python",
   "name": "python3"
  },
  "language_info": {
   "codemirror_mode": {
    "name": "ipython",
    "version": 3
   },
   "file_extension": ".py",
   "mimetype": "text/x-python",
   "name": "python",
   "nbconvert_exporter": "python",
   "pygments_lexer": "ipython3",
   "version": "3.10.6"
  }
 },
 "nbformat": 4,
 "nbformat_minor": 5
}
