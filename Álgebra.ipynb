{
 "cells": [
  {
   "cell_type": "markdown",
   "id": "b80eb0ef-5ae8-4fbf-b80f-322a32b6db8e",
   "metadata": {},
   "source": [
    "<h1 style=\"text-align:center\">ÁLGEBRA MODERNA 1.</h1> "
   ]
  },
  {
   "cell_type": "markdown",
   "id": "5d3fa852-90db-4c0e-b739-24f32fa7f74e",
   "metadata": {},
   "source": [
    "## ¿b divisible entre a?"
   ]
  },
  {
   "cell_type": "code",
   "execution_count": 16,
   "id": "9257452d-ac2a-4ecc-a082-32c200a8c5ae",
   "metadata": {},
   "outputs": [],
   "source": [
    "def divisible(b,a):\n",
    "    while b > 0:\n",
    "        a = abs(a)\n",
    "        b -= a\n",
    "    \n",
    "    if b == 0:\n",
    "        return \"¡Es divisible!\"\n",
    "    else:\n",
    "        return \"No es divisible\""
   ]
  },
  {
   "cell_type": "code",
   "execution_count": 35,
   "id": "aeea0bfa-4473-4287-b3e0-272af0b809bb",
   "metadata": {},
   "outputs": [
    {
     "data": {
      "text/plain": [
       "'No es divisible'"
      ]
     },
     "execution_count": 35,
     "metadata": {},
     "output_type": "execute_result"
    }
   ],
   "source": [
    "divisible(362880,99)"
   ]
  },
  {
   "cell_type": "markdown",
   "id": "3ef68946-0269-4e50-bd1c-a915ca9493de",
   "metadata": {},
   "source": [
    "## Divisores de un número."
   ]
  },
  {
   "cell_type": "code",
   "execution_count": 17,
   "id": "d5decccc-83a0-460f-90b4-acd215fe502e",
   "metadata": {},
   "outputs": [],
   "source": [
    "def divisores(b):\n",
    "    divisores = [1]\n",
    "    while b > 0:\n",
    "        for i in range(2,b):\n",
    "            r = b%i\n",
    "            if r == 0:\n",
    "                divisores.append(i)\n",
    "                \n",
    "        return divisores+[b]"
   ]
  },
  {
   "cell_type": "code",
   "execution_count": 36,
   "id": "77f04122-a611-4439-a194-6df76317bea2",
   "metadata": {},
   "outputs": [
    {
     "data": {
      "text/plain": [
       "[1, 2, 3, 4, 6, 9, 12, 18, 36]"
      ]
     },
     "execution_count": 36,
     "metadata": {},
     "output_type": "execute_result"
    }
   ],
   "source": [
    "divisores(36)"
   ]
  },
  {
   "cell_type": "markdown",
   "id": "3ee22712-4562-4a04-83d1-208b7fd917a5",
   "metadata": {},
   "source": [
    "## Números de la forma (1+pk) con p primo y k entero positivo."
   ]
  },
  {
   "cell_type": "code",
   "execution_count": 3,
   "id": "c76cc843-4ec2-4c06-b739-e9785d062f3a",
   "metadata": {},
   "outputs": [],
   "source": [
    "def pk(p, orden_deG):\n",
    "    lp = []\n",
    "    for k in range(0, orden_deG):\n",
    "        k = (1 + k*p)\n",
    "        lp.append(k)\n",
    "    return lp"
   ]
  },
  {
   "cell_type": "code",
   "execution_count": 4,
   "id": "5f9d54d5-e722-4feb-85b5-27dd34375f18",
   "metadata": {},
   "outputs": [
    {
     "data": {
      "text/plain": [
       "[1,\n",
       " 4,\n",
       " 7,\n",
       " 10,\n",
       " 13,\n",
       " 16,\n",
       " 19,\n",
       " 22,\n",
       " 25,\n",
       " 28,\n",
       " 31,\n",
       " 34,\n",
       " 37,\n",
       " 40,\n",
       " 43,\n",
       " 46,\n",
       " 49,\n",
       " 52,\n",
       " 55,\n",
       " 58,\n",
       " 61,\n",
       " 64,\n",
       " 67,\n",
       " 70,\n",
       " 73,\n",
       " 76,\n",
       " 79,\n",
       " 82,\n",
       " 85,\n",
       " 88,\n",
       " 91,\n",
       " 94,\n",
       " 97,\n",
       " 100,\n",
       " 103,\n",
       " 106]"
      ]
     },
     "execution_count": 4,
     "metadata": {},
     "output_type": "execute_result"
    }
   ],
   "source": [
    "pk(3, 36)"
   ]
  },
  {
   "cell_type": "markdown",
   "id": "0d104f49-d4c5-45fb-bdff-1cec81de7a86",
   "metadata": {},
   "source": [
    "## Posibles números lp de p-subgrupos de Sylow."
   ]
  },
  {
   "cell_type": "code",
   "execution_count": 21,
   "id": "10981f26-5eef-4cd5-a9a4-d71dd6c842d0",
   "metadata": {},
   "outputs": [],
   "source": [
    "def lp(p,ordenG):\n",
    "        \n",
    "    a = divisores(ordenG)\n",
    "    b = pk(p,ordenG)\n",
    "    A = set(a)\n",
    "    B = set(b)\n",
    "    \n",
    "    return A.intersection(B)"
   ]
  },
  {
   "cell_type": "code",
   "execution_count": 22,
   "id": "1bafca57-ab8c-46f1-870f-1ad9c2e943bc",
   "metadata": {},
   "outputs": [
    {
     "data": {
      "text/plain": [
       "{1, 4}"
      ]
     },
     "execution_count": 22,
     "metadata": {},
     "output_type": "execute_result"
    }
   ],
   "source": [
    "lp(3,36)"
   ]
  },
  {
   "cell_type": "code",
   "execution_count": 23,
   "id": "eb0bae73-2b0e-4479-8c9a-557c93b54233",
   "metadata": {},
   "outputs": [
    {
     "data": {
      "text/plain": [
       "{1, 6}"
      ]
     },
     "execution_count": 23,
     "metadata": {},
     "output_type": "execute_result"
    }
   ],
   "source": [
    "lp(5,60)"
   ]
  },
  {
   "cell_type": "code",
   "execution_count": 24,
   "id": "6d3bd44f-b3fa-42db-8b7a-8f1911d36fc1",
   "metadata": {},
   "outputs": [
    {
     "data": {
      "text/plain": [
       "{1}"
      ]
     },
     "execution_count": 24,
     "metadata": {},
     "output_type": "execute_result"
    }
   ],
   "source": [
    "lp(9,45)"
   ]
  },
  {
   "cell_type": "code",
   "execution_count": 25,
   "id": "ae1d8b57-ed3c-49ff-ba2a-6bdc7456f4a0",
   "metadata": {},
   "outputs": [
    {
     "data": {
      "text/plain": [
       "{1}"
      ]
     },
     "execution_count": 25,
     "metadata": {},
     "output_type": "execute_result"
    }
   ],
   "source": [
    "lp(7,42)"
   ]
  },
  {
   "cell_type": "code",
   "execution_count": 26,
   "id": "d1a27250-3ab9-4104-96e6-f8842b5e0207",
   "metadata": {},
   "outputs": [
    {
     "data": {
      "text/plain": [
       "{1}"
      ]
     },
     "execution_count": 26,
     "metadata": {},
     "output_type": "execute_result"
    }
   ],
   "source": [
    "lp(11,231)"
   ]
  },
  {
   "cell_type": "code",
   "execution_count": 27,
   "id": "ecb29b00-2619-46f7-8013-78a32855c4c6",
   "metadata": {},
   "outputs": [
    {
     "data": {
      "text/plain": [
       "{1}"
      ]
     },
     "execution_count": 27,
     "metadata": {},
     "output_type": "execute_result"
    }
   ],
   "source": [
    "lp(17,255)"
   ]
  },
  {
   "cell_type": "code",
   "execution_count": 28,
   "id": "777308a4-9e70-46da-b7da-88c5ad06a375",
   "metadata": {},
   "outputs": [
    {
     "data": {
      "text/plain": [
       "{1}"
      ]
     },
     "execution_count": 28,
     "metadata": {},
     "output_type": "execute_result"
    }
   ],
   "source": [
    "lp(11,99)"
   ]
  },
  {
   "cell_type": "markdown",
   "id": "cc72d618-ed6b-4f46-a87c-617158c60318",
   "metadata": {},
   "source": [
    "## Número lp exacto de p-subgrupos de Sylow"
   ]
  },
  {
   "cell_type": "code",
   "execution_count": 29,
   "id": "f0bb8365-234b-4aae-a91d-05be541375eb",
   "metadata": {},
   "outputs": [],
   "source": [
    "def pSylow(p,ordenG):\n",
    "        \n",
    "    a = divisores(ordenG)\n",
    "    b = pk(p,ordenG)\n",
    "    A = set(a)\n",
    "    B = set(b)\n",
    "    \n",
    "    cj =A.intersection(B)\n",
    "    lista = list(cj)\n",
    "    \n",
    "    print(lista)\n",
    "    \n",
    "    for subg in lista:\n",
    "        if subg != 1:\n",
    "            print(f\"Hay {subg} {p}-subgrupos de Sylow\")\n",
    "            orden = subg-1\n",
    "            elementos = p-1\n",
    "            total = elementos*subg\n",
    "            lugar = ordenG - total\n",
    "            print(f\"Cada uno con {elementos} elementos disntintos de la identidad de orden {orden}.\")\n",
    "            print(f\"Hay entonces {total} elementos de orden {orden} en total.\")\n",
    "            if p < lugar:\n",
    "                print(f\"Pero cada {p}-Sylow tiene orden {p}, entonces estos {elementos} elementos NO estan aquí.\")\n",
    "                print(f\"Por tanto solo hay un {p}-subgrupo de Sylow y es normal.\")\n",
    "                print(\"El grupo NO es simple.\")\n",
    "            elif p > lugar:\n",
    "                print(f\"Cada {p}-subgrupo de Sylow tiene cardinalidad {p}.\")\n",
    "                print(f\"Entonces el total {total} de elementos SÍ se encuentran aquí.\")\n",
    "                print(\"El grupo SI ES SIMPLE\")\n",
    "        elif len(lista) == 1:\n",
    "            print(\"Es normal\")\n",
    "            "
   ]
  },
  {
   "cell_type": "code",
   "execution_count": 30,
   "id": "0755a138-dc29-43ca-b449-d9e3052e2463",
   "metadata": {},
   "outputs": [
    {
     "name": "stdout",
     "output_type": "stream",
     "text": [
      "[1]\n",
      "Es normal\n"
     ]
    }
   ],
   "source": [
    "pSylow(11,99)"
   ]
  },
  {
   "cell_type": "markdown",
   "id": "b7c4732b-e932-44c2-b00e-689e30367172",
   "metadata": {},
   "source": [
    "### Función Factorial"
   ]
  },
  {
   "cell_type": "code",
   "execution_count": 31,
   "id": "a74411f5-816c-4cf3-b019-6e49055ee97b",
   "metadata": {},
   "outputs": [],
   "source": [
    "def factorial(n):\n",
    "    #caso base\n",
    "    if n == 0:\n",
    "        return 1\n",
    "    else:\n",
    "        return factorial(n-1)*n "
   ]
  },
  {
   "cell_type": "code",
   "execution_count": 34,
   "id": "c2313aae-76a6-4088-af5f-bb2918cd64af",
   "metadata": {},
   "outputs": [
    {
     "data": {
      "text/plain": [
       "362880"
      ]
     },
     "execution_count": 34,
     "metadata": {},
     "output_type": "execute_result"
    }
   ],
   "source": [
    "factorial(9)"
   ]
  },
  {
   "cell_type": "markdown",
   "id": "66767dce-80f9-4b9e-b974-7611d01e813f",
   "metadata": {},
   "source": [
    "## Cardinalidad de $S_n$ y $A_n$"
   ]
  },
  {
   "cell_type": "code",
   "execution_count": 33,
   "id": "6391c011-dfcc-4401-bb63-31771008f475",
   "metadata": {},
   "outputs": [
    {
     "name": "stdin",
     "output_type": "stream",
     "text": [
      "Ingrese n:  3\n"
     ]
    },
    {
     "name": "stdout",
     "output_type": "stream",
     "text": [
      "La cardilanidad de S_n es:  6\n",
      "La cardinalidad de A_n es:  3.0\n"
     ]
    }
   ],
   "source": [
    "n = int(input(\"Ingrese n: \"))\n",
    "cardS_n = factorial(n)\n",
    "cardA_n = cardS_n/2\n",
    "print(\"La cardilanidad de S_n es: \", cardS_n)\n",
    "print(\"La cardinalidad de A_n es: \" ,cardA_n)"
   ]
  },
  {
   "cell_type": "markdown",
   "id": "155ad38a-31f8-4b9f-9335-63eb16e6c220",
   "metadata": {},
   "source": [
    "## Primos relativos - función $\\phi$ de Euler."
   ]
  },
  {
   "cell_type": "code",
   "execution_count": 23,
   "id": "4b9c5641-5b24-4158-b6a8-889608102db3",
   "metadata": {},
   "outputs": [],
   "source": [
    "import numpy as np  \n",
    "\n",
    "def fEuler(n):\n",
    "    rlist=[]\n",
    "    \n",
    "    for i in range(1,n):\n",
    "        if np.gcd(n,i)==1:\n",
    "            rlist.append(i)\n",
    "\n",
    "    print(\"la lista es: \", rlist, \"con cardinalidad: \", len(rlist))\n",
    "\n",
    "    print(len(rlist)*100/n, \"Porcentaje de primos relativos de \", n, \"que son menores que \", n)"
   ]
  },
  {
   "cell_type": "code",
   "execution_count": 24,
   "id": "f56c1606-80ce-4a3d-98e5-656e89705457",
   "metadata": {},
   "outputs": [
    {
     "name": "stdout",
     "output_type": "stream",
     "text": [
      "la lista es:  [1, 2, 3, 4, 5, 6] con cardinalidad:  6\n",
      "85.71428571428571 Porcentaje de primos relativos de  7 que son menores que  7\n"
     ]
    }
   ],
   "source": [
    "fEuler(7)"
   ]
  },
  {
   "cell_type": "code",
   "execution_count": null,
   "id": "d19e5e2b-5595-4acd-9989-4f7f04124b87",
   "metadata": {},
   "outputs": [],
   "source": []
  }
 ],
 "metadata": {
  "kernelspec": {
   "display_name": "Python 3 (ipykernel)",
   "language": "python",
   "name": "python3"
  },
  "language_info": {
   "codemirror_mode": {
    "name": "ipython",
    "version": 3
   },
   "file_extension": ".py",
   "mimetype": "text/x-python",
   "name": "python",
   "nbconvert_exporter": "python",
   "pygments_lexer": "ipython3",
   "version": "3.10.2"
  }
 },
 "nbformat": 4,
 "nbformat_minor": 5
}
