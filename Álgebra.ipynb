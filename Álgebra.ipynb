{
 "cells": [
  {
   "cell_type": "markdown",
   "id": "b80eb0ef-5ae8-4fbf-b80f-322a32b6db8e",
   "metadata": {},
   "source": [
    "# ÁLGEBRA MODERNA 1."
   ]
  },
  {
   "cell_type": "markdown",
   "id": "5d3fa852-90db-4c0e-b739-24f32fa7f74e",
   "metadata": {},
   "source": [
    "## ¿b divisible entre a?"
   ]
  },
  {
   "cell_type": "code",
   "execution_count": null,
   "id": "9257452d-ac2a-4ecc-a082-32c200a8c5ae",
   "metadata": {},
   "outputs": [],
   "source": [
    "def divisible(b,a):\n",
    "    while b > 0:\n",
    "        a = abs(a)\n",
    "        b -= a\n",
    "    \n",
    "    if b == 0:\n",
    "        return \"¡Es divisible!\"\n",
    "    else:\n",
    "        return \"No es divisible\""
   ]
  },
  {
   "cell_type": "markdown",
   "id": "3ef68946-0269-4e50-bd1c-a915ca9493de",
   "metadata": {},
   "source": [
    "## Divisores de un número."
   ]
  },
  {
   "cell_type": "code",
   "execution_count": null,
   "id": "d5decccc-83a0-460f-90b4-acd215fe502e",
   "metadata": {},
   "outputs": [],
   "source": [
    "def divisores(b):\n",
    "    divisores = [1]\n",
    "    while b > 0:\n",
    "        for i in range(2,b):\n",
    "            r = b%i\n",
    "            if r == 0:\n",
    "                divisores.append(i)\n",
    "                \n",
    "        return divisores+[b]"
   ]
  },
  {
   "cell_type": "markdown",
   "id": "3ee22712-4562-4a04-83d1-208b7fd917a5",
   "metadata": {},
   "source": [
    "## Números de la forma (1+pk) con p primo y k entero positivo."
   ]
  },
  {
   "cell_type": "code",
   "execution_count": 5,
   "id": "c76cc843-4ec2-4c06-b739-e9785d062f3a",
   "metadata": {},
   "outputs": [],
   "source": [
    "def pSylow(p, orden_deG):\n",
    "    lp = []\n",
    "    for k in range(0, orden_deG):\n",
    "        k = (1 + k*p)\n",
    "        lp.append(k)\n",
    "    return lp"
   ]
  },
  {
   "cell_type": "markdown",
   "id": "0d104f49-d4c5-45fb-bdff-1cec81de7a86",
   "metadata": {},
   "source": [
    "## Número lp de p-subgrupos de Sylow."
   ]
  },
  {
   "cell_type": "code",
   "execution_count": 11,
   "id": "10981f26-5eef-4cd5-a9a4-d71dd6c842d0",
   "metadata": {},
   "outputs": [],
   "source": [
    "def lp(p,ordenG):\n",
    "        \n",
    "    a = divisores(ordenG)\n",
    "    b = pSylow(p,ordenG)\n",
    "    A = set(a)\n",
    "    B = set(b)\n",
    "    \n",
    "    return A.intersection(B)"
   ]
  },
  {
   "cell_type": "code",
   "execution_count": 13,
   "id": "2822e638-4e2a-468c-be75-15dc5294981d",
   "metadata": {},
   "outputs": [
    {
     "data": {
      "text/plain": [
       "{1, 3, 5, 9, 15, 45}"
      ]
     },
     "execution_count": 13,
     "metadata": {},
     "output_type": "execute_result"
    }
   ],
   "source": [
    "lp(2,720)"
   ]
  },
  {
   "cell_type": "code",
   "execution_count": null,
   "id": "1bafca57-ab8c-46f1-870f-1ad9c2e943bc",
   "metadata": {},
   "outputs": [],
   "source": []
  }
 ],
 "metadata": {
  "kernelspec": {
   "display_name": "Python 3 (ipykernel)",
   "language": "python",
   "name": "python3"
  },
  "language_info": {
   "codemirror_mode": {
    "name": "ipython",
    "version": 3
   },
   "file_extension": ".py",
   "mimetype": "text/x-python",
   "name": "python",
   "nbconvert_exporter": "python",
   "pygments_lexer": "ipython3",
   "version": "3.10.2"
  }
 },
 "nbformat": 4,
 "nbformat_minor": 5
}
