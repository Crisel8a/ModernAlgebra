{
 "cells": [
  {
   "cell_type": "markdown",
   "id": "b80eb0ef-5ae8-4fbf-b80f-322a32b6db8e",
   "metadata": {},
   "source": [
    "# ÁLGEBRA MODERNA 1."
   ]
  },
  {
   "cell_type": "markdown",
   "id": "5d3fa852-90db-4c0e-b739-24f32fa7f74e",
   "metadata": {},
   "source": [
    "## ¿b divisible entre a?"
   ]
  },
  {
   "cell_type": "code",
   "execution_count": null,
   "id": "9257452d-ac2a-4ecc-a082-32c200a8c5ae",
   "metadata": {},
   "outputs": [],
   "source": [
    "def divisible(b,a):\n",
    "    while b > 0:\n",
    "        a = abs(a)\n",
    "        b -= a\n",
    "    \n",
    "    if b == 0:\n",
    "        return \"¡Es divisible!\"\n",
    "    else:\n",
    "        return \"No es divisible\""
   ]
  },
  {
   "cell_type": "markdown",
   "id": "3ef68946-0269-4e50-bd1c-a915ca9493de",
   "metadata": {},
   "source": [
    "## Divisores de un número."
   ]
  },
  {
   "cell_type": "code",
   "execution_count": 1,
   "id": "d5decccc-83a0-460f-90b4-acd215fe502e",
   "metadata": {},
   "outputs": [],
   "source": [
    "def divisores(b):\n",
    "    divisores = [1]\n",
    "    while b > 0:\n",
    "        for i in range(2,b):\n",
    "            r = b%i\n",
    "            if r == 0:\n",
    "                divisores.append(i)\n",
    "                \n",
    "        return divisores+[b]"
   ]
  },
  {
   "cell_type": "code",
   "execution_count": 37,
   "id": "c0dfc5d9-fd4b-404e-9fea-7359e46f012b",
   "metadata": {},
   "outputs": [
    {
     "data": {
      "text/plain": [
       "[1, 3, 17, 51]"
      ]
     },
     "execution_count": 37,
     "metadata": {},
     "output_type": "execute_result"
    }
   ],
   "source": [
    "divisores(51)"
   ]
  },
  {
   "cell_type": "markdown",
   "id": "3ee22712-4562-4a04-83d1-208b7fd917a5",
   "metadata": {},
   "source": [
    "## Números de la forma (1+pk) con p primo y k entero positivo."
   ]
  },
  {
   "cell_type": "code",
   "execution_count": 2,
   "id": "c76cc843-4ec2-4c06-b739-e9785d062f3a",
   "metadata": {},
   "outputs": [],
   "source": [
    "def pSylow(p, orden_deG):\n",
    "    lp = []\n",
    "    for k in range(0, orden_deG):\n",
    "        k = (1 + k*p)\n",
    "        lp.append(k)\n",
    "    return lp"
   ]
  },
  {
   "cell_type": "markdown",
   "id": "0d104f49-d4c5-45fb-bdff-1cec81de7a86",
   "metadata": {},
   "source": [
    "## Posibles números lp de p-subgrupos de Sylow."
   ]
  },
  {
   "cell_type": "code",
   "execution_count": 4,
   "id": "10981f26-5eef-4cd5-a9a4-d71dd6c842d0",
   "metadata": {},
   "outputs": [],
   "source": [
    "def lp(p,ordenG):\n",
    "        \n",
    "    a = divisores(ordenG)\n",
    "    b = pSylow(p,ordenG)\n",
    "    A = set(a)\n",
    "    B = set(b)\n",
    "    \n",
    "    return A.intersection(B)"
   ]
  },
  {
   "cell_type": "code",
   "execution_count": 12,
   "id": "2822e638-4e2a-468c-be75-15dc5294981d",
   "metadata": {},
   "outputs": [
    {
     "data": {
      "text/plain": [
       "{1, 3, 5, 15}"
      ]
     },
     "execution_count": 12,
     "metadata": {},
     "output_type": "execute_result"
    }
   ],
   "source": [
    "lp(2,60)"
   ]
  },
  {
   "cell_type": "code",
   "execution_count": 13,
   "id": "1bafca57-ab8c-46f1-870f-1ad9c2e943bc",
   "metadata": {},
   "outputs": [
    {
     "data": {
      "text/plain": [
       "{1, 4, 10}"
      ]
     },
     "execution_count": 13,
     "metadata": {},
     "output_type": "execute_result"
    }
   ],
   "source": [
    "lp(3,60)"
   ]
  },
  {
   "cell_type": "code",
   "execution_count": 14,
   "id": "eb0bae73-2b0e-4479-8c9a-557c93b54233",
   "metadata": {},
   "outputs": [
    {
     "data": {
      "text/plain": [
       "{1, 6}"
      ]
     },
     "execution_count": 14,
     "metadata": {},
     "output_type": "execute_result"
    }
   ],
   "source": [
    "lp(5,60)"
   ]
  },
  {
   "cell_type": "code",
   "execution_count": 23,
   "id": "6d3bd44f-b3fa-42db-8b7a-8f1911d36fc1",
   "metadata": {},
   "outputs": [
    {
     "data": {
      "text/plain": [
       "{1}"
      ]
     },
     "execution_count": 23,
     "metadata": {},
     "output_type": "execute_result"
    }
   ],
   "source": [
    "lp(9,45)"
   ]
  },
  {
   "cell_type": "code",
   "execution_count": 28,
   "id": "ae1d8b57-ed3c-49ff-ba2a-6bdc7456f4a0",
   "metadata": {},
   "outputs": [
    {
     "data": {
      "text/plain": [
       "{1}"
      ]
     },
     "execution_count": 28,
     "metadata": {},
     "output_type": "execute_result"
    }
   ],
   "source": [
    "lp(7,42)"
   ]
  },
  {
   "cell_type": "code",
   "execution_count": 33,
   "id": "d1a27250-3ab9-4104-96e6-f8842b5e0207",
   "metadata": {},
   "outputs": [
    {
     "data": {
      "text/plain": [
       "{1}"
      ]
     },
     "execution_count": 33,
     "metadata": {},
     "output_type": "execute_result"
    }
   ],
   "source": [
    "lp(11,231)"
   ]
  },
  {
   "cell_type": "code",
   "execution_count": 40,
   "id": "ecb29b00-2619-46f7-8013-78a32855c4c6",
   "metadata": {},
   "outputs": [
    {
     "data": {
      "text/plain": [
       "{1}"
      ]
     },
     "execution_count": 40,
     "metadata": {},
     "output_type": "execute_result"
    }
   ],
   "source": [
    "lp(17,255)"
   ]
  },
  {
   "cell_type": "markdown",
   "id": "cc72d618-ed6b-4f46-a87c-617158c60318",
   "metadata": {},
   "source": [
    "## Número lp exacto de p-sungrupos de Sylow"
   ]
  },
  {
   "cell_type": "code",
   "execution_count": 96,
   "id": "e7ddf080-4796-48a6-8f41-a9eaacda2a0f",
   "metadata": {},
   "outputs": [],
   "source": [
    "def lpExacto(p,ordenG):\n",
    "        \n",
    "    a = divisores(ordenG)\n",
    "    b = pSylow(p,ordenG)\n",
    "    A = set(a)\n",
    "    B = set(b)\n",
    "    \n",
    "    cj =A.intersection(B)\n",
    "    lista = list(cj)\n",
    "    \n",
    "    print(lista)\n",
    "    \n",
    "    for subg in lista:\n",
    "        if subg != 1:\n",
    "            print(f\"Hay {subg} {p}-subgrupos de Sylow\")\n",
    "            orden = subg-1\n",
    "            elementos = p-1\n",
    "            total = elementos*subg\n",
    "            print(f\"Cada uno con {elementos} elementos disntintos de la identidad de orden {orden}.\")\n",
    "            print(f\"Hay entonces {total} elementos de orden {orden} en total.\")\n",
    "            if (total) > p:\n",
    "                print(f\"Pero cada {p}-Sylow tiene orde {p}, entonces estos {elementos} elementos no estan aquí.\")\n",
    "                print(f\"Por tanto solo hay un {p}-subgrupo de Sylow y es normal.\")\n",
    "            else:\n",
    "                print(f\"Cada {p}-subgrupo de Sylow tiene cardinalidad {p}.\")\n",
    "                print(f\"Entonces el total {total} de elementos se encuentran aquí.\")\n",
    "        elif len(lista) == 1:\n",
    "            print(\"Es normal\")\n",
    "            "
   ]
  },
  {
   "cell_type": "code",
   "execution_count": 125,
   "id": "c30b5df6-2fd8-4968-8d94-fe865f7fa0d6",
   "metadata": {},
   "outputs": [
    {
     "name": "stdout",
     "output_type": "stream",
     "text": [
      "[8, 1]\n",
      "Hay 8 7-subgrupos de Sylow\n",
      "Cada uno con 6 elementos disntintos de la identidad de orden 7.\n",
      "Hay entonces 48 elementos de orden 7 en total.\n",
      "Pero cada 7-Sylow tiene orde 7, entonces estos 6 elementos no estan aquí.\n",
      "Por tanto solo hay un 7-subgrupo de Sylow y es normal.\n"
     ]
    }
   ],
   "source": [
    "lpExacto(7,56)"
   ]
  },
  {
   "cell_type": "code",
   "execution_count": null,
   "id": "a74411f5-816c-4cf3-b019-6e49055ee97b",
   "metadata": {},
   "outputs": [],
   "source": []
  }
 ],
 "metadata": {
  "kernelspec": {
   "display_name": "Python 3 (ipykernel)",
   "language": "python",
   "name": "python3"
  },
  "language_info": {
   "codemirror_mode": {
    "name": "ipython",
    "version": 3
   },
   "file_extension": ".py",
   "mimetype": "text/x-python",
   "name": "python",
   "nbconvert_exporter": "python",
   "pygments_lexer": "ipython3",
   "version": "3.10.2"
  }
 },
 "nbformat": 4,
 "nbformat_minor": 5
}
